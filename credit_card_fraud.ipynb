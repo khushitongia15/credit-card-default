{
  "nbformat": 4,
  "nbformat_minor": 0,
  "metadata": {
    "colab": {
      "provenance": []
    },
    "kernelspec": {
      "name": "python3",
      "display_name": "Python 3"
    },
    "language_info": {
      "name": "python"
    }
  },
  "cells": [
    {
      "cell_type": "markdown",
      "source": [
        "# CREDIT CARD FRAUD DETECTION"
      ],
      "metadata": {
        "id": "fQ3T09IHRuxh"
      }
    },
    {
      "cell_type": "markdown",
      "source": [
        "The objective of this project is to create a Naive Bayes model capable of detecting fraud in credit card operations, thus seeking to minimize the risk and loss of the business."
      ],
      "metadata": {
        "id": "n_8RKugAR1Ay"
      }
    },
    {
      "cell_type": "markdown",
      "source": [
        "IMPORING LIBRARIES"
      ],
      "metadata": {
        "id": "vgTQWW8bKcZ2"
      }
    },
    {
      "cell_type": "code",
      "execution_count": null,
      "metadata": {
        "id": "3cp5aR_oQmI_"
      },
      "outputs": [],
      "source": [
        "import numpy as np\n",
        "import pandas as pd\n",
        "from sklearn.model_selection import train_test_split\n",
        "from sklearn.naive_bayes import GaussianNB\n",
        "from sklearn.metrics import accuracy_score"
      ]
    },
    {
      "cell_type": "code",
      "source": [
        "# loading the dataset to a Pandas DataFrame\n",
        "credit_card_data = pd.read_csv('/content/creditcard.csv')"
      ],
      "metadata": {
        "id": "7G905hH8RIVg"
      },
      "execution_count": null,
      "outputs": []
    },
    {
      "cell_type": "code",
      "source": [
        "# first 5 rows of the dataset\n",
        "credit_card_data.head()"
      ],
      "metadata": {
        "colab": {
          "base_uri": "https://localhost:8080/",
          "height": 299
        },
        "id": "1QC9urWy4gtY",
        "outputId": "ab43c2ab-c743-4c55-ac09-7e0c0b879d9c"
      },
      "execution_count": null,
      "outputs": [
        {
          "output_type": "execute_result",
          "data": {
            "text/plain": [
              "   Time        V1        V2        V3        V4        V5        V6        V7  \\\n",
              "0     0 -1.359807 -0.072781  2.536347  1.378155 -0.338321  0.462388  0.239599   \n",
              "1     0  1.191857  0.266151  0.166480  0.448154  0.060018 -0.082361 -0.078803   \n",
              "2     1 -1.358354 -1.340163  1.773209  0.379780 -0.503198  1.800499  0.791461   \n",
              "3     1 -0.966272 -0.185226  1.792993 -0.863291 -0.010309  1.247203  0.237609   \n",
              "4     2 -1.158233  0.877737  1.548718  0.403034 -0.407193  0.095921  0.592941   \n",
              "\n",
              "         V8        V9  ...       V21       V22       V23       V24       V25  \\\n",
              "0  0.098698  0.363787  ... -0.018307  0.277838 -0.110474  0.066928  0.128539   \n",
              "1  0.085102 -0.255425  ... -0.225775 -0.638672  0.101288 -0.339846  0.167170   \n",
              "2  0.247676 -1.514654  ...  0.247998  0.771679  0.909412 -0.689281 -0.327642   \n",
              "3  0.377436 -1.387024  ... -0.108300  0.005274 -0.190321 -1.175575  0.647376   \n",
              "4 -0.270533  0.817739  ... -0.009431  0.798278 -0.137458  0.141267 -0.206010   \n",
              "\n",
              "        V26       V27       V28  Amount  Class  \n",
              "0 -0.189115  0.133558 -0.021053  149.62    0.0  \n",
              "1  0.125895 -0.008983  0.014724    2.69    0.0  \n",
              "2 -0.139097 -0.055353 -0.059752  378.66    0.0  \n",
              "3 -0.221929  0.062723  0.061458  123.50    0.0  \n",
              "4  0.502292  0.219422  0.215153   69.99    0.0  \n",
              "\n",
              "[5 rows x 31 columns]"
            ],
            "text/html": [
              "\n",
              "  <div id=\"df-183b75d5-b6d1-4240-b80e-9e941a5e4fc7\">\n",
              "    <div class=\"colab-df-container\">\n",
              "      <div>\n",
              "<style scoped>\n",
              "    .dataframe tbody tr th:only-of-type {\n",
              "        vertical-align: middle;\n",
              "    }\n",
              "\n",
              "    .dataframe tbody tr th {\n",
              "        vertical-align: top;\n",
              "    }\n",
              "\n",
              "    .dataframe thead th {\n",
              "        text-align: right;\n",
              "    }\n",
              "</style>\n",
              "<table border=\"1\" class=\"dataframe\">\n",
              "  <thead>\n",
              "    <tr style=\"text-align: right;\">\n",
              "      <th></th>\n",
              "      <th>Time</th>\n",
              "      <th>V1</th>\n",
              "      <th>V2</th>\n",
              "      <th>V3</th>\n",
              "      <th>V4</th>\n",
              "      <th>V5</th>\n",
              "      <th>V6</th>\n",
              "      <th>V7</th>\n",
              "      <th>V8</th>\n",
              "      <th>V9</th>\n",
              "      <th>...</th>\n",
              "      <th>V21</th>\n",
              "      <th>V22</th>\n",
              "      <th>V23</th>\n",
              "      <th>V24</th>\n",
              "      <th>V25</th>\n",
              "      <th>V26</th>\n",
              "      <th>V27</th>\n",
              "      <th>V28</th>\n",
              "      <th>Amount</th>\n",
              "      <th>Class</th>\n",
              "    </tr>\n",
              "  </thead>\n",
              "  <tbody>\n",
              "    <tr>\n",
              "      <th>0</th>\n",
              "      <td>0</td>\n",
              "      <td>-1.359807</td>\n",
              "      <td>-0.072781</td>\n",
              "      <td>2.536347</td>\n",
              "      <td>1.378155</td>\n",
              "      <td>-0.338321</td>\n",
              "      <td>0.462388</td>\n",
              "      <td>0.239599</td>\n",
              "      <td>0.098698</td>\n",
              "      <td>0.363787</td>\n",
              "      <td>...</td>\n",
              "      <td>-0.018307</td>\n",
              "      <td>0.277838</td>\n",
              "      <td>-0.110474</td>\n",
              "      <td>0.066928</td>\n",
              "      <td>0.128539</td>\n",
              "      <td>-0.189115</td>\n",
              "      <td>0.133558</td>\n",
              "      <td>-0.021053</td>\n",
              "      <td>149.62</td>\n",
              "      <td>0.0</td>\n",
              "    </tr>\n",
              "    <tr>\n",
              "      <th>1</th>\n",
              "      <td>0</td>\n",
              "      <td>1.191857</td>\n",
              "      <td>0.266151</td>\n",
              "      <td>0.166480</td>\n",
              "      <td>0.448154</td>\n",
              "      <td>0.060018</td>\n",
              "      <td>-0.082361</td>\n",
              "      <td>-0.078803</td>\n",
              "      <td>0.085102</td>\n",
              "      <td>-0.255425</td>\n",
              "      <td>...</td>\n",
              "      <td>-0.225775</td>\n",
              "      <td>-0.638672</td>\n",
              "      <td>0.101288</td>\n",
              "      <td>-0.339846</td>\n",
              "      <td>0.167170</td>\n",
              "      <td>0.125895</td>\n",
              "      <td>-0.008983</td>\n",
              "      <td>0.014724</td>\n",
              "      <td>2.69</td>\n",
              "      <td>0.0</td>\n",
              "    </tr>\n",
              "    <tr>\n",
              "      <th>2</th>\n",
              "      <td>1</td>\n",
              "      <td>-1.358354</td>\n",
              "      <td>-1.340163</td>\n",
              "      <td>1.773209</td>\n",
              "      <td>0.379780</td>\n",
              "      <td>-0.503198</td>\n",
              "      <td>1.800499</td>\n",
              "      <td>0.791461</td>\n",
              "      <td>0.247676</td>\n",
              "      <td>-1.514654</td>\n",
              "      <td>...</td>\n",
              "      <td>0.247998</td>\n",
              "      <td>0.771679</td>\n",
              "      <td>0.909412</td>\n",
              "      <td>-0.689281</td>\n",
              "      <td>-0.327642</td>\n",
              "      <td>-0.139097</td>\n",
              "      <td>-0.055353</td>\n",
              "      <td>-0.059752</td>\n",
              "      <td>378.66</td>\n",
              "      <td>0.0</td>\n",
              "    </tr>\n",
              "    <tr>\n",
              "      <th>3</th>\n",
              "      <td>1</td>\n",
              "      <td>-0.966272</td>\n",
              "      <td>-0.185226</td>\n",
              "      <td>1.792993</td>\n",
              "      <td>-0.863291</td>\n",
              "      <td>-0.010309</td>\n",
              "      <td>1.247203</td>\n",
              "      <td>0.237609</td>\n",
              "      <td>0.377436</td>\n",
              "      <td>-1.387024</td>\n",
              "      <td>...</td>\n",
              "      <td>-0.108300</td>\n",
              "      <td>0.005274</td>\n",
              "      <td>-0.190321</td>\n",
              "      <td>-1.175575</td>\n",
              "      <td>0.647376</td>\n",
              "      <td>-0.221929</td>\n",
              "      <td>0.062723</td>\n",
              "      <td>0.061458</td>\n",
              "      <td>123.50</td>\n",
              "      <td>0.0</td>\n",
              "    </tr>\n",
              "    <tr>\n",
              "      <th>4</th>\n",
              "      <td>2</td>\n",
              "      <td>-1.158233</td>\n",
              "      <td>0.877737</td>\n",
              "      <td>1.548718</td>\n",
              "      <td>0.403034</td>\n",
              "      <td>-0.407193</td>\n",
              "      <td>0.095921</td>\n",
              "      <td>0.592941</td>\n",
              "      <td>-0.270533</td>\n",
              "      <td>0.817739</td>\n",
              "      <td>...</td>\n",
              "      <td>-0.009431</td>\n",
              "      <td>0.798278</td>\n",
              "      <td>-0.137458</td>\n",
              "      <td>0.141267</td>\n",
              "      <td>-0.206010</td>\n",
              "      <td>0.502292</td>\n",
              "      <td>0.219422</td>\n",
              "      <td>0.215153</td>\n",
              "      <td>69.99</td>\n",
              "      <td>0.0</td>\n",
              "    </tr>\n",
              "  </tbody>\n",
              "</table>\n",
              "<p>5 rows × 31 columns</p>\n",
              "</div>\n",
              "      <button class=\"colab-df-convert\" onclick=\"convertToInteractive('df-183b75d5-b6d1-4240-b80e-9e941a5e4fc7')\"\n",
              "              title=\"Convert this dataframe to an interactive table.\"\n",
              "              style=\"display:none;\">\n",
              "        \n",
              "  <svg xmlns=\"http://www.w3.org/2000/svg\" height=\"24px\"viewBox=\"0 0 24 24\"\n",
              "       width=\"24px\">\n",
              "    <path d=\"M0 0h24v24H0V0z\" fill=\"none\"/>\n",
              "    <path d=\"M18.56 5.44l.94 2.06.94-2.06 2.06-.94-2.06-.94-.94-2.06-.94 2.06-2.06.94zm-11 1L8.5 8.5l.94-2.06 2.06-.94-2.06-.94L8.5 2.5l-.94 2.06-2.06.94zm10 10l.94 2.06.94-2.06 2.06-.94-2.06-.94-.94-2.06-.94 2.06-2.06.94z\"/><path d=\"M17.41 7.96l-1.37-1.37c-.4-.4-.92-.59-1.43-.59-.52 0-1.04.2-1.43.59L10.3 9.45l-7.72 7.72c-.78.78-.78 2.05 0 2.83L4 21.41c.39.39.9.59 1.41.59.51 0 1.02-.2 1.41-.59l7.78-7.78 2.81-2.81c.8-.78.8-2.07 0-2.86zM5.41 20L4 18.59l7.72-7.72 1.47 1.35L5.41 20z\"/>\n",
              "  </svg>\n",
              "      </button>\n",
              "      \n",
              "  <style>\n",
              "    .colab-df-container {\n",
              "      display:flex;\n",
              "      flex-wrap:wrap;\n",
              "      gap: 12px;\n",
              "    }\n",
              "\n",
              "    .colab-df-convert {\n",
              "      background-color: #E8F0FE;\n",
              "      border: none;\n",
              "      border-radius: 50%;\n",
              "      cursor: pointer;\n",
              "      display: none;\n",
              "      fill: #1967D2;\n",
              "      height: 32px;\n",
              "      padding: 0 0 0 0;\n",
              "      width: 32px;\n",
              "    }\n",
              "\n",
              "    .colab-df-convert:hover {\n",
              "      background-color: #E2EBFA;\n",
              "      box-shadow: 0px 1px 2px rgba(60, 64, 67, 0.3), 0px 1px 3px 1px rgba(60, 64, 67, 0.15);\n",
              "      fill: #174EA6;\n",
              "    }\n",
              "\n",
              "    [theme=dark] .colab-df-convert {\n",
              "      background-color: #3B4455;\n",
              "      fill: #D2E3FC;\n",
              "    }\n",
              "\n",
              "    [theme=dark] .colab-df-convert:hover {\n",
              "      background-color: #434B5C;\n",
              "      box-shadow: 0px 1px 3px 1px rgba(0, 0, 0, 0.15);\n",
              "      filter: drop-shadow(0px 1px 2px rgba(0, 0, 0, 0.3));\n",
              "      fill: #FFFFFF;\n",
              "    }\n",
              "  </style>\n",
              "\n",
              "      <script>\n",
              "        const buttonEl =\n",
              "          document.querySelector('#df-183b75d5-b6d1-4240-b80e-9e941a5e4fc7 button.colab-df-convert');\n",
              "        buttonEl.style.display =\n",
              "          google.colab.kernel.accessAllowed ? 'block' : 'none';\n",
              "\n",
              "        async function convertToInteractive(key) {\n",
              "          const element = document.querySelector('#df-183b75d5-b6d1-4240-b80e-9e941a5e4fc7');\n",
              "          const dataTable =\n",
              "            await google.colab.kernel.invokeFunction('convertToInteractive',\n",
              "                                                     [key], {});\n",
              "          if (!dataTable) return;\n",
              "\n",
              "          const docLinkHtml = 'Like what you see? Visit the ' +\n",
              "            '<a target=\"_blank\" href=https://colab.research.google.com/notebooks/data_table.ipynb>data table notebook</a>'\n",
              "            + ' to learn more about interactive tables.';\n",
              "          element.innerHTML = '';\n",
              "          dataTable['output_type'] = 'display_data';\n",
              "          await google.colab.output.renderOutput(dataTable, element);\n",
              "          const docLink = document.createElement('div');\n",
              "          docLink.innerHTML = docLinkHtml;\n",
              "          element.appendChild(docLink);\n",
              "        }\n",
              "      </script>\n",
              "    </div>\n",
              "  </div>\n",
              "  "
            ]
          },
          "metadata": {},
          "execution_count": 5
        }
      ]
    },
    {
      "cell_type": "code",
      "source": [
        "# dataset informations\n",
        "credit_card_data.info()"
      ],
      "metadata": {
        "colab": {
          "base_uri": "https://localhost:8080/"
        },
        "id": "PlqZ4O4s4kTg",
        "outputId": "681b823f-f209-468b-bdba-a99c06e3e7af"
      },
      "execution_count": null,
      "outputs": [
        {
          "output_type": "stream",
          "name": "stdout",
          "text": [
            "<class 'pandas.core.frame.DataFrame'>\n",
            "RangeIndex: 57531 entries, 0 to 57530\n",
            "Data columns (total 31 columns):\n",
            " #   Column  Non-Null Count  Dtype  \n",
            "---  ------  --------------  -----  \n",
            " 0   Time    57531 non-null  int64  \n",
            " 1   V1      57531 non-null  float64\n",
            " 2   V2      57531 non-null  float64\n",
            " 3   V3      57531 non-null  float64\n",
            " 4   V4      57531 non-null  float64\n",
            " 5   V5      57530 non-null  float64\n",
            " 6   V6      57530 non-null  float64\n",
            " 7   V7      57530 non-null  float64\n",
            " 8   V8      57530 non-null  float64\n",
            " 9   V9      57530 non-null  float64\n",
            " 10  V10     57530 non-null  float64\n",
            " 11  V11     57530 non-null  float64\n",
            " 12  V12     57530 non-null  float64\n",
            " 13  V13     57530 non-null  float64\n",
            " 14  V14     57530 non-null  float64\n",
            " 15  V15     57530 non-null  float64\n",
            " 16  V16     57530 non-null  float64\n",
            " 17  V17     57530 non-null  float64\n",
            " 18  V18     57530 non-null  float64\n",
            " 19  V19     57530 non-null  float64\n",
            " 20  V20     57530 non-null  float64\n",
            " 21  V21     57530 non-null  float64\n",
            " 22  V22     57530 non-null  float64\n",
            " 23  V23     57530 non-null  float64\n",
            " 24  V24     57530 non-null  float64\n",
            " 25  V25     57530 non-null  float64\n",
            " 26  V26     57530 non-null  float64\n",
            " 27  V27     57530 non-null  float64\n",
            " 28  V28     57530 non-null  float64\n",
            " 29  Amount  57530 non-null  float64\n",
            " 30  Class   57530 non-null  float64\n",
            "dtypes: float64(30), int64(1)\n",
            "memory usage: 13.6 MB\n"
          ]
        }
      ]
    },
    {
      "cell_type": "code",
      "source": [
        "# checking the number of missing values in each column\n",
        "credit_card_data.isnull().sum()"
      ],
      "metadata": {
        "colab": {
          "base_uri": "https://localhost:8080/"
        },
        "id": "936FFCff5DhZ",
        "outputId": "687d15b8-2abe-4f29-b88b-712462ea8371"
      },
      "execution_count": null,
      "outputs": [
        {
          "output_type": "execute_result",
          "data": {
            "text/plain": [
              "Time      0\n",
              "V1        0\n",
              "V2        0\n",
              "V3        0\n",
              "V4        0\n",
              "V5        1\n",
              "V6        1\n",
              "V7        1\n",
              "V8        1\n",
              "V9        1\n",
              "V10       1\n",
              "V11       1\n",
              "V12       1\n",
              "V13       1\n",
              "V14       1\n",
              "V15       1\n",
              "V16       1\n",
              "V17       1\n",
              "V18       1\n",
              "V19       1\n",
              "V20       1\n",
              "V21       1\n",
              "V22       1\n",
              "V23       1\n",
              "V24       1\n",
              "V25       1\n",
              "V26       1\n",
              "V27       1\n",
              "V28       1\n",
              "Amount    1\n",
              "Class     1\n",
              "dtype: int64"
            ]
          },
          "metadata": {},
          "execution_count": 7
        }
      ]
    },
    {
      "cell_type": "code",
      "source": [
        "# distribution of legit transactions & fraudulent transactions\n",
        "credit_card_data['Class'].value_counts()"
      ],
      "metadata": {
        "colab": {
          "base_uri": "https://localhost:8080/"
        },
        "id": "v8l4eBtg5EVf",
        "outputId": "c1258eb3-dcda-4255-cd06-00da953157b2"
      },
      "execution_count": null,
      "outputs": [
        {
          "output_type": "execute_result",
          "data": {
            "text/plain": [
              "0.0    57371\n",
              "1.0      159\n",
              "Name: Class, dtype: int64"
            ]
          },
          "metadata": {},
          "execution_count": 8
        }
      ]
    },
    {
      "cell_type": "markdown",
      "source": [
        "This Dataset is highly unblanced\n",
        "\n",
        "0 --> Normal Transaction\n",
        "\n",
        "1 --> fraudulent transaction"
      ],
      "metadata": {
        "id": "NjAxrLFZKjnQ"
      }
    },
    {
      "cell_type": "code",
      "source": [
        "# separating the data for analysis\n",
        "legit = credit_card_data[credit_card_data.Class == 0]\n",
        "fraud = credit_card_data[credit_card_data.Class == 1]"
      ],
      "metadata": {
        "id": "MQb2bHsNKnTn"
      },
      "execution_count": null,
      "outputs": []
    },
    {
      "cell_type": "code",
      "source": [
        "print(legit.shape)\n",
        "print(fraud.shape)"
      ],
      "metadata": {
        "colab": {
          "base_uri": "https://localhost:8080/"
        },
        "id": "Sa6NaaCFKqh8",
        "outputId": "ab3ddfee-60e3-4671-d722-68b9865b48f8"
      },
      "execution_count": null,
      "outputs": [
        {
          "output_type": "stream",
          "name": "stdout",
          "text": [
            "(57371, 31)\n",
            "(159, 31)\n"
          ]
        }
      ]
    },
    {
      "cell_type": "code",
      "source": [
        "# statistical measures of the amount column\n",
        "legit.Amount.describe()"
      ],
      "metadata": {
        "colab": {
          "base_uri": "https://localhost:8080/"
        },
        "id": "NzWAl7HrKspb",
        "outputId": "d1659930-1368-4e60-f9ee-9e0485347c76"
      },
      "execution_count": null,
      "outputs": [
        {
          "output_type": "execute_result",
          "data": {
            "text/plain": [
              "count    57371.000000\n",
              "mean        94.964936\n",
              "std        258.837451\n",
              "min          0.000000\n",
              "25%          7.730000\n",
              "50%         26.000000\n",
              "75%         87.265000\n",
              "max      12910.930000\n",
              "Name: Amount, dtype: float64"
            ]
          },
          "metadata": {},
          "execution_count": 11
        }
      ]
    },
    {
      "cell_type": "code",
      "source": [
        "fraud.Amount.describe()"
      ],
      "metadata": {
        "colab": {
          "base_uri": "https://localhost:8080/"
        },
        "id": "cy0EGAj2KxjO",
        "outputId": "13c9ad91-084c-44aa-f492-8c072856c62d"
      },
      "execution_count": null,
      "outputs": [
        {
          "output_type": "execute_result",
          "data": {
            "text/plain": [
              "count     159.000000\n",
              "mean       94.008491\n",
              "std       226.356407\n",
              "min         0.000000\n",
              "25%         1.000000\n",
              "50%         4.560000\n",
              "75%        99.990000\n",
              "max      1809.680000\n",
              "Name: Amount, dtype: float64"
            ]
          },
          "metadata": {},
          "execution_count": 12
        }
      ]
    },
    {
      "cell_type": "code",
      "source": [
        "#Comparing values for legit and fraud transactions\n",
        "credit_card_data.groupby('Class').mean()"
      ],
      "metadata": {
        "colab": {
          "base_uri": "https://localhost:8080/",
          "height": 237
        },
        "id": "VOsH-qXyK7P-",
        "outputId": "1d2a1b56-83bf-47c9-9e10-01f29dbec65c"
      },
      "execution_count": null,
      "outputs": [
        {
          "output_type": "execute_result",
          "data": {
            "text/plain": [
              "               Time        V1        V2        V3        V4        V5  \\\n",
              "Class                                                                   \n",
              "0.0    31182.415593 -0.219113 -0.022390  0.719137  0.156512 -0.245965   \n",
              "1.0    28211.811321 -7.202722  5.178029 -9.744764  5.629843 -5.323789   \n",
              "\n",
              "             V6        V7        V8        V9  ...       V20       V21  \\\n",
              "Class                                          ...                       \n",
              "0.0    0.109222 -0.096562  0.046517  0.082463  ...  0.046811 -0.030106   \n",
              "1.0   -2.182973 -7.596616  3.494864 -3.408036  ...  0.440868  0.866669   \n",
              "\n",
              "            V22       V23       V24       V25       V26       V27       V28  \\\n",
              "Class                                                                         \n",
              "0.0   -0.105994 -0.038668  0.007397  0.135838  0.019652  0.001468  0.003733   \n",
              "1.0   -0.211629 -0.271093 -0.081439  0.238644  0.127501  0.573380  0.033555   \n",
              "\n",
              "          Amount  \n",
              "Class             \n",
              "0.0    94.964936  \n",
              "1.0    94.008491  \n",
              "\n",
              "[2 rows x 30 columns]"
            ],
            "text/html": [
              "\n",
              "  <div id=\"df-1ed2a289-bfca-4547-bc6f-46a8b9aba45c\">\n",
              "    <div class=\"colab-df-container\">\n",
              "      <div>\n",
              "<style scoped>\n",
              "    .dataframe tbody tr th:only-of-type {\n",
              "        vertical-align: middle;\n",
              "    }\n",
              "\n",
              "    .dataframe tbody tr th {\n",
              "        vertical-align: top;\n",
              "    }\n",
              "\n",
              "    .dataframe thead th {\n",
              "        text-align: right;\n",
              "    }\n",
              "</style>\n",
              "<table border=\"1\" class=\"dataframe\">\n",
              "  <thead>\n",
              "    <tr style=\"text-align: right;\">\n",
              "      <th></th>\n",
              "      <th>Time</th>\n",
              "      <th>V1</th>\n",
              "      <th>V2</th>\n",
              "      <th>V3</th>\n",
              "      <th>V4</th>\n",
              "      <th>V5</th>\n",
              "      <th>V6</th>\n",
              "      <th>V7</th>\n",
              "      <th>V8</th>\n",
              "      <th>V9</th>\n",
              "      <th>...</th>\n",
              "      <th>V20</th>\n",
              "      <th>V21</th>\n",
              "      <th>V22</th>\n",
              "      <th>V23</th>\n",
              "      <th>V24</th>\n",
              "      <th>V25</th>\n",
              "      <th>V26</th>\n",
              "      <th>V27</th>\n",
              "      <th>V28</th>\n",
              "      <th>Amount</th>\n",
              "    </tr>\n",
              "    <tr>\n",
              "      <th>Class</th>\n",
              "      <th></th>\n",
              "      <th></th>\n",
              "      <th></th>\n",
              "      <th></th>\n",
              "      <th></th>\n",
              "      <th></th>\n",
              "      <th></th>\n",
              "      <th></th>\n",
              "      <th></th>\n",
              "      <th></th>\n",
              "      <th></th>\n",
              "      <th></th>\n",
              "      <th></th>\n",
              "      <th></th>\n",
              "      <th></th>\n",
              "      <th></th>\n",
              "      <th></th>\n",
              "      <th></th>\n",
              "      <th></th>\n",
              "      <th></th>\n",
              "      <th></th>\n",
              "    </tr>\n",
              "  </thead>\n",
              "  <tbody>\n",
              "    <tr>\n",
              "      <th>0.0</th>\n",
              "      <td>31182.415593</td>\n",
              "      <td>-0.219113</td>\n",
              "      <td>-0.022390</td>\n",
              "      <td>0.719137</td>\n",
              "      <td>0.156512</td>\n",
              "      <td>-0.245965</td>\n",
              "      <td>0.109222</td>\n",
              "      <td>-0.096562</td>\n",
              "      <td>0.046517</td>\n",
              "      <td>0.082463</td>\n",
              "      <td>...</td>\n",
              "      <td>0.046811</td>\n",
              "      <td>-0.030106</td>\n",
              "      <td>-0.105994</td>\n",
              "      <td>-0.038668</td>\n",
              "      <td>0.007397</td>\n",
              "      <td>0.135838</td>\n",
              "      <td>0.019652</td>\n",
              "      <td>0.001468</td>\n",
              "      <td>0.003733</td>\n",
              "      <td>94.964936</td>\n",
              "    </tr>\n",
              "    <tr>\n",
              "      <th>1.0</th>\n",
              "      <td>28211.811321</td>\n",
              "      <td>-7.202722</td>\n",
              "      <td>5.178029</td>\n",
              "      <td>-9.744764</td>\n",
              "      <td>5.629843</td>\n",
              "      <td>-5.323789</td>\n",
              "      <td>-2.182973</td>\n",
              "      <td>-7.596616</td>\n",
              "      <td>3.494864</td>\n",
              "      <td>-3.408036</td>\n",
              "      <td>...</td>\n",
              "      <td>0.440868</td>\n",
              "      <td>0.866669</td>\n",
              "      <td>-0.211629</td>\n",
              "      <td>-0.271093</td>\n",
              "      <td>-0.081439</td>\n",
              "      <td>0.238644</td>\n",
              "      <td>0.127501</td>\n",
              "      <td>0.573380</td>\n",
              "      <td>0.033555</td>\n",
              "      <td>94.008491</td>\n",
              "    </tr>\n",
              "  </tbody>\n",
              "</table>\n",
              "<p>2 rows × 30 columns</p>\n",
              "</div>\n",
              "      <button class=\"colab-df-convert\" onclick=\"convertToInteractive('df-1ed2a289-bfca-4547-bc6f-46a8b9aba45c')\"\n",
              "              title=\"Convert this dataframe to an interactive table.\"\n",
              "              style=\"display:none;\">\n",
              "        \n",
              "  <svg xmlns=\"http://www.w3.org/2000/svg\" height=\"24px\"viewBox=\"0 0 24 24\"\n",
              "       width=\"24px\">\n",
              "    <path d=\"M0 0h24v24H0V0z\" fill=\"none\"/>\n",
              "    <path d=\"M18.56 5.44l.94 2.06.94-2.06 2.06-.94-2.06-.94-.94-2.06-.94 2.06-2.06.94zm-11 1L8.5 8.5l.94-2.06 2.06-.94-2.06-.94L8.5 2.5l-.94 2.06-2.06.94zm10 10l.94 2.06.94-2.06 2.06-.94-2.06-.94-.94-2.06-.94 2.06-2.06.94z\"/><path d=\"M17.41 7.96l-1.37-1.37c-.4-.4-.92-.59-1.43-.59-.52 0-1.04.2-1.43.59L10.3 9.45l-7.72 7.72c-.78.78-.78 2.05 0 2.83L4 21.41c.39.39.9.59 1.41.59.51 0 1.02-.2 1.41-.59l7.78-7.78 2.81-2.81c.8-.78.8-2.07 0-2.86zM5.41 20L4 18.59l7.72-7.72 1.47 1.35L5.41 20z\"/>\n",
              "  </svg>\n",
              "      </button>\n",
              "      \n",
              "  <style>\n",
              "    .colab-df-container {\n",
              "      display:flex;\n",
              "      flex-wrap:wrap;\n",
              "      gap: 12px;\n",
              "    }\n",
              "\n",
              "    .colab-df-convert {\n",
              "      background-color: #E8F0FE;\n",
              "      border: none;\n",
              "      border-radius: 50%;\n",
              "      cursor: pointer;\n",
              "      display: none;\n",
              "      fill: #1967D2;\n",
              "      height: 32px;\n",
              "      padding: 0 0 0 0;\n",
              "      width: 32px;\n",
              "    }\n",
              "\n",
              "    .colab-df-convert:hover {\n",
              "      background-color: #E2EBFA;\n",
              "      box-shadow: 0px 1px 2px rgba(60, 64, 67, 0.3), 0px 1px 3px 1px rgba(60, 64, 67, 0.15);\n",
              "      fill: #174EA6;\n",
              "    }\n",
              "\n",
              "    [theme=dark] .colab-df-convert {\n",
              "      background-color: #3B4455;\n",
              "      fill: #D2E3FC;\n",
              "    }\n",
              "\n",
              "    [theme=dark] .colab-df-convert:hover {\n",
              "      background-color: #434B5C;\n",
              "      box-shadow: 0px 1px 3px 1px rgba(0, 0, 0, 0.15);\n",
              "      filter: drop-shadow(0px 1px 2px rgba(0, 0, 0, 0.3));\n",
              "      fill: #FFFFFF;\n",
              "    }\n",
              "  </style>\n",
              "\n",
              "      <script>\n",
              "        const buttonEl =\n",
              "          document.querySelector('#df-1ed2a289-bfca-4547-bc6f-46a8b9aba45c button.colab-df-convert');\n",
              "        buttonEl.style.display =\n",
              "          google.colab.kernel.accessAllowed ? 'block' : 'none';\n",
              "\n",
              "        async function convertToInteractive(key) {\n",
              "          const element = document.querySelector('#df-1ed2a289-bfca-4547-bc6f-46a8b9aba45c');\n",
              "          const dataTable =\n",
              "            await google.colab.kernel.invokeFunction('convertToInteractive',\n",
              "                                                     [key], {});\n",
              "          if (!dataTable) return;\n",
              "\n",
              "          const docLinkHtml = 'Like what you see? Visit the ' +\n",
              "            '<a target=\"_blank\" href=https://colab.research.google.com/notebooks/data_table.ipynb>data table notebook</a>'\n",
              "            + ' to learn more about interactive tables.';\n",
              "          element.innerHTML = '';\n",
              "          dataTable['output_type'] = 'display_data';\n",
              "          await google.colab.output.renderOutput(dataTable, element);\n",
              "          const docLink = document.createElement('div');\n",
              "          docLink.innerHTML = docLinkHtml;\n",
              "          element.appendChild(docLink);\n",
              "        }\n",
              "      </script>\n",
              "    </div>\n",
              "  </div>\n",
              "  "
            ]
          },
          "metadata": {},
          "execution_count": 13
        }
      ]
    },
    {
      "cell_type": "markdown",
      "source": [
        "UNDER-SAMPLING OF DATA"
      ],
      "metadata": {
        "id": "-GKnE6CdLSa1"
      }
    },
    {
      "cell_type": "markdown",
      "source": [
        "Since the dataset is highly unbalanced, we perform undersampling of the data to build a sample dataset containing similar distribution of normal transactions and fraudulent transactions."
      ],
      "metadata": {
        "id": "eHOD7pHILVFB"
      }
    },
    {
      "cell_type": "code",
      "source": [
        "legit_sample = legit.sample(n=492)"
      ],
      "metadata": {
        "id": "IxOehtj6LN4M"
      },
      "execution_count": null,
      "outputs": []
    },
    {
      "cell_type": "code",
      "source": [
        "new=pd.concat([legit_sample,fraud],axis=0)"
      ],
      "metadata": {
        "id": "0ugAJntMLnTL"
      },
      "execution_count": null,
      "outputs": []
    },
    {
      "cell_type": "code",
      "source": [
        "new.head()"
      ],
      "metadata": {
        "colab": {
          "base_uri": "https://localhost:8080/",
          "height": 299
        },
        "id": "QbRllSRCLwAm",
        "outputId": "b5ae520d-8473-43ac-9082-2f725a3eabf2"
      },
      "execution_count": null,
      "outputs": [
        {
          "output_type": "execute_result",
          "data": {
            "text/plain": [
              "        Time        V1        V2        V3        V4        V5        V6  \\\n",
              "49648  44149 -0.413824  1.068785  1.393601  0.093227  0.029106 -0.697971   \n",
              "56245  47332 -0.282569  0.271178  1.702742  0.041995 -0.129158  0.640892   \n",
              "42189  40988  0.728921 -0.317696  0.212950  1.261416 -0.306467 -0.267181   \n",
              "18602  29632 -0.433639  0.784044  1.769839 -0.169176  0.106752 -0.189486   \n",
              "53472  46000 -1.181871 -0.123701  2.497943  0.456774  0.420220 -0.711575   \n",
              "\n",
              "             V7        V8        V9  ...       V21       V22       V23  \\\n",
              "49648  0.643290  0.053080 -0.396224  ... -0.214412 -0.529397  0.066324   \n",
              "56245 -0.179153  0.416162  0.732239  ...  0.013915  0.167187 -0.016313   \n",
              "42189  0.405519  0.018963 -0.426203  ... -0.256662 -1.301015  0.091834   \n",
              "18602  0.709830  0.032837 -0.398000  ... -0.191182 -0.375916  0.015258   \n",
              "53472 -0.261514  0.203062  0.329290  ...  0.110312  0.232312 -0.007974   \n",
              "\n",
              "            V24       V25       V26       V27       V28  Amount  Class  \n",
              "49648  0.343668 -0.281233  0.081837  0.260041  0.098093    7.18    0.0  \n",
              "56245 -0.782556 -0.867386  0.252826  0.192451  0.178093   11.50    0.0  \n",
              "42189  0.134100  0.023798 -0.859522 -0.019397  0.053315  214.00    0.0  \n",
              "18602  0.179937 -0.376190  0.044973  0.105523 -0.114779   13.57    0.0  \n",
              "53472  0.375832 -0.054772 -0.590944  0.132929  0.158213    9.99    0.0  \n",
              "\n",
              "[5 rows x 31 columns]"
            ],
            "text/html": [
              "\n",
              "  <div id=\"df-c37c11d6-d831-40be-aa7d-8a6c52b9a3db\">\n",
              "    <div class=\"colab-df-container\">\n",
              "      <div>\n",
              "<style scoped>\n",
              "    .dataframe tbody tr th:only-of-type {\n",
              "        vertical-align: middle;\n",
              "    }\n",
              "\n",
              "    .dataframe tbody tr th {\n",
              "        vertical-align: top;\n",
              "    }\n",
              "\n",
              "    .dataframe thead th {\n",
              "        text-align: right;\n",
              "    }\n",
              "</style>\n",
              "<table border=\"1\" class=\"dataframe\">\n",
              "  <thead>\n",
              "    <tr style=\"text-align: right;\">\n",
              "      <th></th>\n",
              "      <th>Time</th>\n",
              "      <th>V1</th>\n",
              "      <th>V2</th>\n",
              "      <th>V3</th>\n",
              "      <th>V4</th>\n",
              "      <th>V5</th>\n",
              "      <th>V6</th>\n",
              "      <th>V7</th>\n",
              "      <th>V8</th>\n",
              "      <th>V9</th>\n",
              "      <th>...</th>\n",
              "      <th>V21</th>\n",
              "      <th>V22</th>\n",
              "      <th>V23</th>\n",
              "      <th>V24</th>\n",
              "      <th>V25</th>\n",
              "      <th>V26</th>\n",
              "      <th>V27</th>\n",
              "      <th>V28</th>\n",
              "      <th>Amount</th>\n",
              "      <th>Class</th>\n",
              "    </tr>\n",
              "  </thead>\n",
              "  <tbody>\n",
              "    <tr>\n",
              "      <th>49648</th>\n",
              "      <td>44149</td>\n",
              "      <td>-0.413824</td>\n",
              "      <td>1.068785</td>\n",
              "      <td>1.393601</td>\n",
              "      <td>0.093227</td>\n",
              "      <td>0.029106</td>\n",
              "      <td>-0.697971</td>\n",
              "      <td>0.643290</td>\n",
              "      <td>0.053080</td>\n",
              "      <td>-0.396224</td>\n",
              "      <td>...</td>\n",
              "      <td>-0.214412</td>\n",
              "      <td>-0.529397</td>\n",
              "      <td>0.066324</td>\n",
              "      <td>0.343668</td>\n",
              "      <td>-0.281233</td>\n",
              "      <td>0.081837</td>\n",
              "      <td>0.260041</td>\n",
              "      <td>0.098093</td>\n",
              "      <td>7.18</td>\n",
              "      <td>0.0</td>\n",
              "    </tr>\n",
              "    <tr>\n",
              "      <th>56245</th>\n",
              "      <td>47332</td>\n",
              "      <td>-0.282569</td>\n",
              "      <td>0.271178</td>\n",
              "      <td>1.702742</td>\n",
              "      <td>0.041995</td>\n",
              "      <td>-0.129158</td>\n",
              "      <td>0.640892</td>\n",
              "      <td>-0.179153</td>\n",
              "      <td>0.416162</td>\n",
              "      <td>0.732239</td>\n",
              "      <td>...</td>\n",
              "      <td>0.013915</td>\n",
              "      <td>0.167187</td>\n",
              "      <td>-0.016313</td>\n",
              "      <td>-0.782556</td>\n",
              "      <td>-0.867386</td>\n",
              "      <td>0.252826</td>\n",
              "      <td>0.192451</td>\n",
              "      <td>0.178093</td>\n",
              "      <td>11.50</td>\n",
              "      <td>0.0</td>\n",
              "    </tr>\n",
              "    <tr>\n",
              "      <th>42189</th>\n",
              "      <td>40988</td>\n",
              "      <td>0.728921</td>\n",
              "      <td>-0.317696</td>\n",
              "      <td>0.212950</td>\n",
              "      <td>1.261416</td>\n",
              "      <td>-0.306467</td>\n",
              "      <td>-0.267181</td>\n",
              "      <td>0.405519</td>\n",
              "      <td>0.018963</td>\n",
              "      <td>-0.426203</td>\n",
              "      <td>...</td>\n",
              "      <td>-0.256662</td>\n",
              "      <td>-1.301015</td>\n",
              "      <td>0.091834</td>\n",
              "      <td>0.134100</td>\n",
              "      <td>0.023798</td>\n",
              "      <td>-0.859522</td>\n",
              "      <td>-0.019397</td>\n",
              "      <td>0.053315</td>\n",
              "      <td>214.00</td>\n",
              "      <td>0.0</td>\n",
              "    </tr>\n",
              "    <tr>\n",
              "      <th>18602</th>\n",
              "      <td>29632</td>\n",
              "      <td>-0.433639</td>\n",
              "      <td>0.784044</td>\n",
              "      <td>1.769839</td>\n",
              "      <td>-0.169176</td>\n",
              "      <td>0.106752</td>\n",
              "      <td>-0.189486</td>\n",
              "      <td>0.709830</td>\n",
              "      <td>0.032837</td>\n",
              "      <td>-0.398000</td>\n",
              "      <td>...</td>\n",
              "      <td>-0.191182</td>\n",
              "      <td>-0.375916</td>\n",
              "      <td>0.015258</td>\n",
              "      <td>0.179937</td>\n",
              "      <td>-0.376190</td>\n",
              "      <td>0.044973</td>\n",
              "      <td>0.105523</td>\n",
              "      <td>-0.114779</td>\n",
              "      <td>13.57</td>\n",
              "      <td>0.0</td>\n",
              "    </tr>\n",
              "    <tr>\n",
              "      <th>53472</th>\n",
              "      <td>46000</td>\n",
              "      <td>-1.181871</td>\n",
              "      <td>-0.123701</td>\n",
              "      <td>2.497943</td>\n",
              "      <td>0.456774</td>\n",
              "      <td>0.420220</td>\n",
              "      <td>-0.711575</td>\n",
              "      <td>-0.261514</td>\n",
              "      <td>0.203062</td>\n",
              "      <td>0.329290</td>\n",
              "      <td>...</td>\n",
              "      <td>0.110312</td>\n",
              "      <td>0.232312</td>\n",
              "      <td>-0.007974</td>\n",
              "      <td>0.375832</td>\n",
              "      <td>-0.054772</td>\n",
              "      <td>-0.590944</td>\n",
              "      <td>0.132929</td>\n",
              "      <td>0.158213</td>\n",
              "      <td>9.99</td>\n",
              "      <td>0.0</td>\n",
              "    </tr>\n",
              "  </tbody>\n",
              "</table>\n",
              "<p>5 rows × 31 columns</p>\n",
              "</div>\n",
              "      <button class=\"colab-df-convert\" onclick=\"convertToInteractive('df-c37c11d6-d831-40be-aa7d-8a6c52b9a3db')\"\n",
              "              title=\"Convert this dataframe to an interactive table.\"\n",
              "              style=\"display:none;\">\n",
              "        \n",
              "  <svg xmlns=\"http://www.w3.org/2000/svg\" height=\"24px\"viewBox=\"0 0 24 24\"\n",
              "       width=\"24px\">\n",
              "    <path d=\"M0 0h24v24H0V0z\" fill=\"none\"/>\n",
              "    <path d=\"M18.56 5.44l.94 2.06.94-2.06 2.06-.94-2.06-.94-.94-2.06-.94 2.06-2.06.94zm-11 1L8.5 8.5l.94-2.06 2.06-.94-2.06-.94L8.5 2.5l-.94 2.06-2.06.94zm10 10l.94 2.06.94-2.06 2.06-.94-2.06-.94-.94-2.06-.94 2.06-2.06.94z\"/><path d=\"M17.41 7.96l-1.37-1.37c-.4-.4-.92-.59-1.43-.59-.52 0-1.04.2-1.43.59L10.3 9.45l-7.72 7.72c-.78.78-.78 2.05 0 2.83L4 21.41c.39.39.9.59 1.41.59.51 0 1.02-.2 1.41-.59l7.78-7.78 2.81-2.81c.8-.78.8-2.07 0-2.86zM5.41 20L4 18.59l7.72-7.72 1.47 1.35L5.41 20z\"/>\n",
              "  </svg>\n",
              "      </button>\n",
              "      \n",
              "  <style>\n",
              "    .colab-df-container {\n",
              "      display:flex;\n",
              "      flex-wrap:wrap;\n",
              "      gap: 12px;\n",
              "    }\n",
              "\n",
              "    .colab-df-convert {\n",
              "      background-color: #E8F0FE;\n",
              "      border: none;\n",
              "      border-radius: 50%;\n",
              "      cursor: pointer;\n",
              "      display: none;\n",
              "      fill: #1967D2;\n",
              "      height: 32px;\n",
              "      padding: 0 0 0 0;\n",
              "      width: 32px;\n",
              "    }\n",
              "\n",
              "    .colab-df-convert:hover {\n",
              "      background-color: #E2EBFA;\n",
              "      box-shadow: 0px 1px 2px rgba(60, 64, 67, 0.3), 0px 1px 3px 1px rgba(60, 64, 67, 0.15);\n",
              "      fill: #174EA6;\n",
              "    }\n",
              "\n",
              "    [theme=dark] .colab-df-convert {\n",
              "      background-color: #3B4455;\n",
              "      fill: #D2E3FC;\n",
              "    }\n",
              "\n",
              "    [theme=dark] .colab-df-convert:hover {\n",
              "      background-color: #434B5C;\n",
              "      box-shadow: 0px 1px 3px 1px rgba(0, 0, 0, 0.15);\n",
              "      filter: drop-shadow(0px 1px 2px rgba(0, 0, 0, 0.3));\n",
              "      fill: #FFFFFF;\n",
              "    }\n",
              "  </style>\n",
              "\n",
              "      <script>\n",
              "        const buttonEl =\n",
              "          document.querySelector('#df-c37c11d6-d831-40be-aa7d-8a6c52b9a3db button.colab-df-convert');\n",
              "        buttonEl.style.display =\n",
              "          google.colab.kernel.accessAllowed ? 'block' : 'none';\n",
              "\n",
              "        async function convertToInteractive(key) {\n",
              "          const element = document.querySelector('#df-c37c11d6-d831-40be-aa7d-8a6c52b9a3db');\n",
              "          const dataTable =\n",
              "            await google.colab.kernel.invokeFunction('convertToInteractive',\n",
              "                                                     [key], {});\n",
              "          if (!dataTable) return;\n",
              "\n",
              "          const docLinkHtml = 'Like what you see? Visit the ' +\n",
              "            '<a target=\"_blank\" href=https://colab.research.google.com/notebooks/data_table.ipynb>data table notebook</a>'\n",
              "            + ' to learn more about interactive tables.';\n",
              "          element.innerHTML = '';\n",
              "          dataTable['output_type'] = 'display_data';\n",
              "          await google.colab.output.renderOutput(dataTable, element);\n",
              "          const docLink = document.createElement('div');\n",
              "          docLink.innerHTML = docLinkHtml;\n",
              "          element.appendChild(docLink);\n",
              "        }\n",
              "      </script>\n",
              "    </div>\n",
              "  </div>\n",
              "  "
            ]
          },
          "metadata": {},
          "execution_count": 16
        }
      ]
    },
    {
      "cell_type": "code",
      "source": [
        "new.tail()"
      ],
      "metadata": {
        "colab": {
          "base_uri": "https://localhost:8080/",
          "height": 299
        },
        "id": "ViQYtdBwLy9_",
        "outputId": "e2b51f07-1e17-4c4b-e298-d55fc2bf22e5"
      },
      "execution_count": null,
      "outputs": [
        {
          "output_type": "execute_result",
          "data": {
            "text/plain": [
              "        Time        V1        V2        V3        V4        V5        V6  \\\n",
              "53794  46149 -1.346509  2.132431 -1.854355  2.116998 -1.070378 -1.092671   \n",
              "55401  46925 -0.481531  1.059542  0.647117  0.905586  0.819368 -0.091184   \n",
              "56703  47545  1.176716  0.557091 -0.490800  0.756424  0.249192 -0.781871   \n",
              "57248  47826 -0.887287  1.390002  1.219686  1.661425  1.009228 -0.733908   \n",
              "57470  47923  0.364377  1.443523 -2.220907  2.036985 -1.237055 -1.728161   \n",
              "\n",
              "             V7        V8        V9  ...       V21       V22       V23  \\\n",
              "53794 -2.230986  1.036425 -1.895516  ...  0.609508  0.202874 -0.060791   \n",
              "55401  0.504135  0.161064 -0.765054  ...  0.070633  0.192491 -0.174659   \n",
              "56703  0.228750 -0.040840 -0.432111  ... -0.062166 -0.128168 -0.040176   \n",
              "57248  0.855829  0.000077 -1.275631  ... -0.083734 -0.346930 -0.050619   \n",
              "57470 -2.058582  0.358895 -1.393306  ...  0.402730 -0.132129 -0.032977   \n",
              "\n",
              "            V24       V25       V26       V27       V28  Amount  Class  \n",
              "53794 -0.186733 -0.017401 -0.283751  0.395451  0.233139    1.00    1.0  \n",
              "55401 -0.438908  0.239259 -0.217823 -0.072852  0.010463    1.00    1.0  \n",
              "56703  0.110040  0.437891  0.368809 -0.018287  0.031173    0.76    1.0  \n",
              "57248  0.231044 -0.450760 -0.376205  0.034504  0.157775    7.58    1.0  \n",
              "57470  0.460861  0.560404  0.409366  0.539668  0.296918    0.76    1.0  \n",
              "\n",
              "[5 rows x 31 columns]"
            ],
            "text/html": [
              "\n",
              "  <div id=\"df-fd709c62-0476-40da-9a57-f168ee089e06\">\n",
              "    <div class=\"colab-df-container\">\n",
              "      <div>\n",
              "<style scoped>\n",
              "    .dataframe tbody tr th:only-of-type {\n",
              "        vertical-align: middle;\n",
              "    }\n",
              "\n",
              "    .dataframe tbody tr th {\n",
              "        vertical-align: top;\n",
              "    }\n",
              "\n",
              "    .dataframe thead th {\n",
              "        text-align: right;\n",
              "    }\n",
              "</style>\n",
              "<table border=\"1\" class=\"dataframe\">\n",
              "  <thead>\n",
              "    <tr style=\"text-align: right;\">\n",
              "      <th></th>\n",
              "      <th>Time</th>\n",
              "      <th>V1</th>\n",
              "      <th>V2</th>\n",
              "      <th>V3</th>\n",
              "      <th>V4</th>\n",
              "      <th>V5</th>\n",
              "      <th>V6</th>\n",
              "      <th>V7</th>\n",
              "      <th>V8</th>\n",
              "      <th>V9</th>\n",
              "      <th>...</th>\n",
              "      <th>V21</th>\n",
              "      <th>V22</th>\n",
              "      <th>V23</th>\n",
              "      <th>V24</th>\n",
              "      <th>V25</th>\n",
              "      <th>V26</th>\n",
              "      <th>V27</th>\n",
              "      <th>V28</th>\n",
              "      <th>Amount</th>\n",
              "      <th>Class</th>\n",
              "    </tr>\n",
              "  </thead>\n",
              "  <tbody>\n",
              "    <tr>\n",
              "      <th>53794</th>\n",
              "      <td>46149</td>\n",
              "      <td>-1.346509</td>\n",
              "      <td>2.132431</td>\n",
              "      <td>-1.854355</td>\n",
              "      <td>2.116998</td>\n",
              "      <td>-1.070378</td>\n",
              "      <td>-1.092671</td>\n",
              "      <td>-2.230986</td>\n",
              "      <td>1.036425</td>\n",
              "      <td>-1.895516</td>\n",
              "      <td>...</td>\n",
              "      <td>0.609508</td>\n",
              "      <td>0.202874</td>\n",
              "      <td>-0.060791</td>\n",
              "      <td>-0.186733</td>\n",
              "      <td>-0.017401</td>\n",
              "      <td>-0.283751</td>\n",
              "      <td>0.395451</td>\n",
              "      <td>0.233139</td>\n",
              "      <td>1.00</td>\n",
              "      <td>1.0</td>\n",
              "    </tr>\n",
              "    <tr>\n",
              "      <th>55401</th>\n",
              "      <td>46925</td>\n",
              "      <td>-0.481531</td>\n",
              "      <td>1.059542</td>\n",
              "      <td>0.647117</td>\n",
              "      <td>0.905586</td>\n",
              "      <td>0.819368</td>\n",
              "      <td>-0.091184</td>\n",
              "      <td>0.504135</td>\n",
              "      <td>0.161064</td>\n",
              "      <td>-0.765054</td>\n",
              "      <td>...</td>\n",
              "      <td>0.070633</td>\n",
              "      <td>0.192491</td>\n",
              "      <td>-0.174659</td>\n",
              "      <td>-0.438908</td>\n",
              "      <td>0.239259</td>\n",
              "      <td>-0.217823</td>\n",
              "      <td>-0.072852</td>\n",
              "      <td>0.010463</td>\n",
              "      <td>1.00</td>\n",
              "      <td>1.0</td>\n",
              "    </tr>\n",
              "    <tr>\n",
              "      <th>56703</th>\n",
              "      <td>47545</td>\n",
              "      <td>1.176716</td>\n",
              "      <td>0.557091</td>\n",
              "      <td>-0.490800</td>\n",
              "      <td>0.756424</td>\n",
              "      <td>0.249192</td>\n",
              "      <td>-0.781871</td>\n",
              "      <td>0.228750</td>\n",
              "      <td>-0.040840</td>\n",
              "      <td>-0.432111</td>\n",
              "      <td>...</td>\n",
              "      <td>-0.062166</td>\n",
              "      <td>-0.128168</td>\n",
              "      <td>-0.040176</td>\n",
              "      <td>0.110040</td>\n",
              "      <td>0.437891</td>\n",
              "      <td>0.368809</td>\n",
              "      <td>-0.018287</td>\n",
              "      <td>0.031173</td>\n",
              "      <td>0.76</td>\n",
              "      <td>1.0</td>\n",
              "    </tr>\n",
              "    <tr>\n",
              "      <th>57248</th>\n",
              "      <td>47826</td>\n",
              "      <td>-0.887287</td>\n",
              "      <td>1.390002</td>\n",
              "      <td>1.219686</td>\n",
              "      <td>1.661425</td>\n",
              "      <td>1.009228</td>\n",
              "      <td>-0.733908</td>\n",
              "      <td>0.855829</td>\n",
              "      <td>0.000077</td>\n",
              "      <td>-1.275631</td>\n",
              "      <td>...</td>\n",
              "      <td>-0.083734</td>\n",
              "      <td>-0.346930</td>\n",
              "      <td>-0.050619</td>\n",
              "      <td>0.231044</td>\n",
              "      <td>-0.450760</td>\n",
              "      <td>-0.376205</td>\n",
              "      <td>0.034504</td>\n",
              "      <td>0.157775</td>\n",
              "      <td>7.58</td>\n",
              "      <td>1.0</td>\n",
              "    </tr>\n",
              "    <tr>\n",
              "      <th>57470</th>\n",
              "      <td>47923</td>\n",
              "      <td>0.364377</td>\n",
              "      <td>1.443523</td>\n",
              "      <td>-2.220907</td>\n",
              "      <td>2.036985</td>\n",
              "      <td>-1.237055</td>\n",
              "      <td>-1.728161</td>\n",
              "      <td>-2.058582</td>\n",
              "      <td>0.358895</td>\n",
              "      <td>-1.393306</td>\n",
              "      <td>...</td>\n",
              "      <td>0.402730</td>\n",
              "      <td>-0.132129</td>\n",
              "      <td>-0.032977</td>\n",
              "      <td>0.460861</td>\n",
              "      <td>0.560404</td>\n",
              "      <td>0.409366</td>\n",
              "      <td>0.539668</td>\n",
              "      <td>0.296918</td>\n",
              "      <td>0.76</td>\n",
              "      <td>1.0</td>\n",
              "    </tr>\n",
              "  </tbody>\n",
              "</table>\n",
              "<p>5 rows × 31 columns</p>\n",
              "</div>\n",
              "      <button class=\"colab-df-convert\" onclick=\"convertToInteractive('df-fd709c62-0476-40da-9a57-f168ee089e06')\"\n",
              "              title=\"Convert this dataframe to an interactive table.\"\n",
              "              style=\"display:none;\">\n",
              "        \n",
              "  <svg xmlns=\"http://www.w3.org/2000/svg\" height=\"24px\"viewBox=\"0 0 24 24\"\n",
              "       width=\"24px\">\n",
              "    <path d=\"M0 0h24v24H0V0z\" fill=\"none\"/>\n",
              "    <path d=\"M18.56 5.44l.94 2.06.94-2.06 2.06-.94-2.06-.94-.94-2.06-.94 2.06-2.06.94zm-11 1L8.5 8.5l.94-2.06 2.06-.94-2.06-.94L8.5 2.5l-.94 2.06-2.06.94zm10 10l.94 2.06.94-2.06 2.06-.94-2.06-.94-.94-2.06-.94 2.06-2.06.94z\"/><path d=\"M17.41 7.96l-1.37-1.37c-.4-.4-.92-.59-1.43-.59-.52 0-1.04.2-1.43.59L10.3 9.45l-7.72 7.72c-.78.78-.78 2.05 0 2.83L4 21.41c.39.39.9.59 1.41.59.51 0 1.02-.2 1.41-.59l7.78-7.78 2.81-2.81c.8-.78.8-2.07 0-2.86zM5.41 20L4 18.59l7.72-7.72 1.47 1.35L5.41 20z\"/>\n",
              "  </svg>\n",
              "      </button>\n",
              "      \n",
              "  <style>\n",
              "    .colab-df-container {\n",
              "      display:flex;\n",
              "      flex-wrap:wrap;\n",
              "      gap: 12px;\n",
              "    }\n",
              "\n",
              "    .colab-df-convert {\n",
              "      background-color: #E8F0FE;\n",
              "      border: none;\n",
              "      border-radius: 50%;\n",
              "      cursor: pointer;\n",
              "      display: none;\n",
              "      fill: #1967D2;\n",
              "      height: 32px;\n",
              "      padding: 0 0 0 0;\n",
              "      width: 32px;\n",
              "    }\n",
              "\n",
              "    .colab-df-convert:hover {\n",
              "      background-color: #E2EBFA;\n",
              "      box-shadow: 0px 1px 2px rgba(60, 64, 67, 0.3), 0px 1px 3px 1px rgba(60, 64, 67, 0.15);\n",
              "      fill: #174EA6;\n",
              "    }\n",
              "\n",
              "    [theme=dark] .colab-df-convert {\n",
              "      background-color: #3B4455;\n",
              "      fill: #D2E3FC;\n",
              "    }\n",
              "\n",
              "    [theme=dark] .colab-df-convert:hover {\n",
              "      background-color: #434B5C;\n",
              "      box-shadow: 0px 1px 3px 1px rgba(0, 0, 0, 0.15);\n",
              "      filter: drop-shadow(0px 1px 2px rgba(0, 0, 0, 0.3));\n",
              "      fill: #FFFFFF;\n",
              "    }\n",
              "  </style>\n",
              "\n",
              "      <script>\n",
              "        const buttonEl =\n",
              "          document.querySelector('#df-fd709c62-0476-40da-9a57-f168ee089e06 button.colab-df-convert');\n",
              "        buttonEl.style.display =\n",
              "          google.colab.kernel.accessAllowed ? 'block' : 'none';\n",
              "\n",
              "        async function convertToInteractive(key) {\n",
              "          const element = document.querySelector('#df-fd709c62-0476-40da-9a57-f168ee089e06');\n",
              "          const dataTable =\n",
              "            await google.colab.kernel.invokeFunction('convertToInteractive',\n",
              "                                                     [key], {});\n",
              "          if (!dataTable) return;\n",
              "\n",
              "          const docLinkHtml = 'Like what you see? Visit the ' +\n",
              "            '<a target=\"_blank\" href=https://colab.research.google.com/notebooks/data_table.ipynb>data table notebook</a>'\n",
              "            + ' to learn more about interactive tables.';\n",
              "          element.innerHTML = '';\n",
              "          dataTable['output_type'] = 'display_data';\n",
              "          await google.colab.output.renderOutput(dataTable, element);\n",
              "          const docLink = document.createElement('div');\n",
              "          docLink.innerHTML = docLinkHtml;\n",
              "          element.appendChild(docLink);\n",
              "        }\n",
              "      </script>\n",
              "    </div>\n",
              "  </div>\n",
              "  "
            ]
          },
          "metadata": {},
          "execution_count": 17
        }
      ]
    },
    {
      "cell_type": "code",
      "source": [
        "#Counting values of both classes in the undersampled dataset\n",
        "new['Class'].value_counts()"
      ],
      "metadata": {
        "colab": {
          "base_uri": "https://localhost:8080/"
        },
        "id": "CI8eRyhrL32P",
        "outputId": "2ba5297d-6e1d-4684-81e2-f3630aba5bce"
      },
      "execution_count": null,
      "outputs": [
        {
          "output_type": "execute_result",
          "data": {
            "text/plain": [
              "0.0    492\n",
              "1.0    159\n",
              "Name: Class, dtype: int64"
            ]
          },
          "metadata": {},
          "execution_count": 18
        }
      ]
    },
    {
      "cell_type": "code",
      "source": [
        "new.groupby('Class').mean()"
      ],
      "metadata": {
        "colab": {
          "base_uri": "https://localhost:8080/",
          "height": 237
        },
        "id": "1P03SPNUMMsy",
        "outputId": "adfa19b1-6e7d-4743-a570-16577b115140"
      },
      "execution_count": null,
      "outputs": [
        {
          "output_type": "execute_result",
          "data": {
            "text/plain": [
              "               Time        V1        V2        V3        V4        V5  \\\n",
              "Class                                                                   \n",
              "0.0    30894.132114 -0.154807  0.008633  0.765681  0.087180 -0.250724   \n",
              "1.0    28211.811321 -7.202722  5.178029 -9.744764  5.629843 -5.323789   \n",
              "\n",
              "             V6        V7        V8        V9  ...       V20       V21  \\\n",
              "Class                                          ...                       \n",
              "0.0    0.075774 -0.076574  0.042236  0.149337  ...  0.060707 -0.039988   \n",
              "1.0   -2.182973 -7.596616  3.494864 -3.408036  ...  0.440868  0.866669   \n",
              "\n",
              "            V22       V23       V24       V25       V26       V27       V28  \\\n",
              "Class                                                                         \n",
              "0.0   -0.121158 -0.048773  0.042406  0.117154  0.039872 -0.009237  0.012616   \n",
              "1.0   -0.211629 -0.271093 -0.081439  0.238644  0.127501  0.573380  0.033555   \n",
              "\n",
              "          Amount  \n",
              "Class             \n",
              "0.0    90.828394  \n",
              "1.0    94.008491  \n",
              "\n",
              "[2 rows x 30 columns]"
            ],
            "text/html": [
              "\n",
              "  <div id=\"df-05ac47d3-c891-4fd3-8436-9980c10ea836\">\n",
              "    <div class=\"colab-df-container\">\n",
              "      <div>\n",
              "<style scoped>\n",
              "    .dataframe tbody tr th:only-of-type {\n",
              "        vertical-align: middle;\n",
              "    }\n",
              "\n",
              "    .dataframe tbody tr th {\n",
              "        vertical-align: top;\n",
              "    }\n",
              "\n",
              "    .dataframe thead th {\n",
              "        text-align: right;\n",
              "    }\n",
              "</style>\n",
              "<table border=\"1\" class=\"dataframe\">\n",
              "  <thead>\n",
              "    <tr style=\"text-align: right;\">\n",
              "      <th></th>\n",
              "      <th>Time</th>\n",
              "      <th>V1</th>\n",
              "      <th>V2</th>\n",
              "      <th>V3</th>\n",
              "      <th>V4</th>\n",
              "      <th>V5</th>\n",
              "      <th>V6</th>\n",
              "      <th>V7</th>\n",
              "      <th>V8</th>\n",
              "      <th>V9</th>\n",
              "      <th>...</th>\n",
              "      <th>V20</th>\n",
              "      <th>V21</th>\n",
              "      <th>V22</th>\n",
              "      <th>V23</th>\n",
              "      <th>V24</th>\n",
              "      <th>V25</th>\n",
              "      <th>V26</th>\n",
              "      <th>V27</th>\n",
              "      <th>V28</th>\n",
              "      <th>Amount</th>\n",
              "    </tr>\n",
              "    <tr>\n",
              "      <th>Class</th>\n",
              "      <th></th>\n",
              "      <th></th>\n",
              "      <th></th>\n",
              "      <th></th>\n",
              "      <th></th>\n",
              "      <th></th>\n",
              "      <th></th>\n",
              "      <th></th>\n",
              "      <th></th>\n",
              "      <th></th>\n",
              "      <th></th>\n",
              "      <th></th>\n",
              "      <th></th>\n",
              "      <th></th>\n",
              "      <th></th>\n",
              "      <th></th>\n",
              "      <th></th>\n",
              "      <th></th>\n",
              "      <th></th>\n",
              "      <th></th>\n",
              "      <th></th>\n",
              "    </tr>\n",
              "  </thead>\n",
              "  <tbody>\n",
              "    <tr>\n",
              "      <th>0.0</th>\n",
              "      <td>30894.132114</td>\n",
              "      <td>-0.154807</td>\n",
              "      <td>0.008633</td>\n",
              "      <td>0.765681</td>\n",
              "      <td>0.087180</td>\n",
              "      <td>-0.250724</td>\n",
              "      <td>0.075774</td>\n",
              "      <td>-0.076574</td>\n",
              "      <td>0.042236</td>\n",
              "      <td>0.149337</td>\n",
              "      <td>...</td>\n",
              "      <td>0.060707</td>\n",
              "      <td>-0.039988</td>\n",
              "      <td>-0.121158</td>\n",
              "      <td>-0.048773</td>\n",
              "      <td>0.042406</td>\n",
              "      <td>0.117154</td>\n",
              "      <td>0.039872</td>\n",
              "      <td>-0.009237</td>\n",
              "      <td>0.012616</td>\n",
              "      <td>90.828394</td>\n",
              "    </tr>\n",
              "    <tr>\n",
              "      <th>1.0</th>\n",
              "      <td>28211.811321</td>\n",
              "      <td>-7.202722</td>\n",
              "      <td>5.178029</td>\n",
              "      <td>-9.744764</td>\n",
              "      <td>5.629843</td>\n",
              "      <td>-5.323789</td>\n",
              "      <td>-2.182973</td>\n",
              "      <td>-7.596616</td>\n",
              "      <td>3.494864</td>\n",
              "      <td>-3.408036</td>\n",
              "      <td>...</td>\n",
              "      <td>0.440868</td>\n",
              "      <td>0.866669</td>\n",
              "      <td>-0.211629</td>\n",
              "      <td>-0.271093</td>\n",
              "      <td>-0.081439</td>\n",
              "      <td>0.238644</td>\n",
              "      <td>0.127501</td>\n",
              "      <td>0.573380</td>\n",
              "      <td>0.033555</td>\n",
              "      <td>94.008491</td>\n",
              "    </tr>\n",
              "  </tbody>\n",
              "</table>\n",
              "<p>2 rows × 30 columns</p>\n",
              "</div>\n",
              "      <button class=\"colab-df-convert\" onclick=\"convertToInteractive('df-05ac47d3-c891-4fd3-8436-9980c10ea836')\"\n",
              "              title=\"Convert this dataframe to an interactive table.\"\n",
              "              style=\"display:none;\">\n",
              "        \n",
              "  <svg xmlns=\"http://www.w3.org/2000/svg\" height=\"24px\"viewBox=\"0 0 24 24\"\n",
              "       width=\"24px\">\n",
              "    <path d=\"M0 0h24v24H0V0z\" fill=\"none\"/>\n",
              "    <path d=\"M18.56 5.44l.94 2.06.94-2.06 2.06-.94-2.06-.94-.94-2.06-.94 2.06-2.06.94zm-11 1L8.5 8.5l.94-2.06 2.06-.94-2.06-.94L8.5 2.5l-.94 2.06-2.06.94zm10 10l.94 2.06.94-2.06 2.06-.94-2.06-.94-.94-2.06-.94 2.06-2.06.94z\"/><path d=\"M17.41 7.96l-1.37-1.37c-.4-.4-.92-.59-1.43-.59-.52 0-1.04.2-1.43.59L10.3 9.45l-7.72 7.72c-.78.78-.78 2.05 0 2.83L4 21.41c.39.39.9.59 1.41.59.51 0 1.02-.2 1.41-.59l7.78-7.78 2.81-2.81c.8-.78.8-2.07 0-2.86zM5.41 20L4 18.59l7.72-7.72 1.47 1.35L5.41 20z\"/>\n",
              "  </svg>\n",
              "      </button>\n",
              "      \n",
              "  <style>\n",
              "    .colab-df-container {\n",
              "      display:flex;\n",
              "      flex-wrap:wrap;\n",
              "      gap: 12px;\n",
              "    }\n",
              "\n",
              "    .colab-df-convert {\n",
              "      background-color: #E8F0FE;\n",
              "      border: none;\n",
              "      border-radius: 50%;\n",
              "      cursor: pointer;\n",
              "      display: none;\n",
              "      fill: #1967D2;\n",
              "      height: 32px;\n",
              "      padding: 0 0 0 0;\n",
              "      width: 32px;\n",
              "    }\n",
              "\n",
              "    .colab-df-convert:hover {\n",
              "      background-color: #E2EBFA;\n",
              "      box-shadow: 0px 1px 2px rgba(60, 64, 67, 0.3), 0px 1px 3px 1px rgba(60, 64, 67, 0.15);\n",
              "      fill: #174EA6;\n",
              "    }\n",
              "\n",
              "    [theme=dark] .colab-df-convert {\n",
              "      background-color: #3B4455;\n",
              "      fill: #D2E3FC;\n",
              "    }\n",
              "\n",
              "    [theme=dark] .colab-df-convert:hover {\n",
              "      background-color: #434B5C;\n",
              "      box-shadow: 0px 1px 3px 1px rgba(0, 0, 0, 0.15);\n",
              "      filter: drop-shadow(0px 1px 2px rgba(0, 0, 0, 0.3));\n",
              "      fill: #FFFFFF;\n",
              "    }\n",
              "  </style>\n",
              "\n",
              "      <script>\n",
              "        const buttonEl =\n",
              "          document.querySelector('#df-05ac47d3-c891-4fd3-8436-9980c10ea836 button.colab-df-convert');\n",
              "        buttonEl.style.display =\n",
              "          google.colab.kernel.accessAllowed ? 'block' : 'none';\n",
              "\n",
              "        async function convertToInteractive(key) {\n",
              "          const element = document.querySelector('#df-05ac47d3-c891-4fd3-8436-9980c10ea836');\n",
              "          const dataTable =\n",
              "            await google.colab.kernel.invokeFunction('convertToInteractive',\n",
              "                                                     [key], {});\n",
              "          if (!dataTable) return;\n",
              "\n",
              "          const docLinkHtml = 'Like what you see? Visit the ' +\n",
              "            '<a target=\"_blank\" href=https://colab.research.google.com/notebooks/data_table.ipynb>data table notebook</a>'\n",
              "            + ' to learn more about interactive tables.';\n",
              "          element.innerHTML = '';\n",
              "          dataTable['output_type'] = 'display_data';\n",
              "          await google.colab.output.renderOutput(dataTable, element);\n",
              "          const docLink = document.createElement('div');\n",
              "          docLink.innerHTML = docLinkHtml;\n",
              "          element.appendChild(docLink);\n",
              "        }\n",
              "      </script>\n",
              "    </div>\n",
              "  </div>\n",
              "  "
            ]
          },
          "metadata": {},
          "execution_count": 19
        }
      ]
    },
    {
      "cell_type": "markdown",
      "source": [
        "SELECTING THE FEATURE AND TARGET COLUMNS "
      ],
      "metadata": {
        "id": "8ZleowbbMYHo"
      }
    },
    {
      "cell_type": "code",
      "source": [
        "#Feature columns\n",
        "X = new.drop(columns='Class', axis=1)\n",
        "\n",
        "#Target columns \n",
        "Y = new['Class']"
      ],
      "metadata": {
        "id": "RqgSUWpsMUI8"
      },
      "execution_count": null,
      "outputs": []
    },
    {
      "cell_type": "code",
      "source": [
        "print(X)"
      ],
      "metadata": {
        "colab": {
          "base_uri": "https://localhost:8080/"
        },
        "id": "2j1VMa1aMnAY",
        "outputId": "9b171062-ab36-4754-ffc2-35170c5774e2"
      },
      "execution_count": null,
      "outputs": [
        {
          "output_type": "stream",
          "name": "stdout",
          "text": [
            "        Time        V1        V2        V3        V4        V5        V6  \\\n",
            "49648  44149 -0.413824  1.068785  1.393601  0.093227  0.029106 -0.697971   \n",
            "56245  47332 -0.282569  0.271178  1.702742  0.041995 -0.129158  0.640892   \n",
            "42189  40988  0.728921 -0.317696  0.212950  1.261416 -0.306467 -0.267181   \n",
            "18602  29632 -0.433639  0.784044  1.769839 -0.169176  0.106752 -0.189486   \n",
            "53472  46000 -1.181871 -0.123701  2.497943  0.456774  0.420220 -0.711575   \n",
            "...      ...       ...       ...       ...       ...       ...       ...   \n",
            "53794  46149 -1.346509  2.132431 -1.854355  2.116998 -1.070378 -1.092671   \n",
            "55401  46925 -0.481531  1.059542  0.647117  0.905586  0.819368 -0.091184   \n",
            "56703  47545  1.176716  0.557091 -0.490800  0.756424  0.249192 -0.781871   \n",
            "57248  47826 -0.887287  1.390002  1.219686  1.661425  1.009228 -0.733908   \n",
            "57470  47923  0.364377  1.443523 -2.220907  2.036985 -1.237055 -1.728161   \n",
            "\n",
            "             V7        V8        V9  ...       V20       V21       V22  \\\n",
            "49648  0.643290  0.053080 -0.396224  ...  0.068844 -0.214412 -0.529397   \n",
            "56245 -0.179153  0.416162  0.732239  ... -0.164079  0.013915  0.167187   \n",
            "42189  0.405519  0.018963 -0.426203  ...  0.221818 -0.256662 -1.301015   \n",
            "18602  0.709830  0.032837 -0.398000  ...  0.106574 -0.191182 -0.375916   \n",
            "53472 -0.261514  0.203062  0.329290  ...  0.088028  0.110312  0.232312   \n",
            "...         ...       ...       ...  ...       ...       ...       ...   \n",
            "53794 -2.230986  1.036425 -1.895516  ...  0.221919  0.609508  0.202874   \n",
            "55401  0.504135  0.161064 -0.765054  ... -0.042515  0.070633  0.192491   \n",
            "56703  0.228750 -0.040840 -0.432111  ... -0.102772 -0.062166 -0.128168   \n",
            "57248  0.855829  0.000077 -1.275631  ... -0.268347 -0.083734 -0.346930   \n",
            "57470 -2.058582  0.358895 -1.393306  ...  0.310980  0.402730 -0.132129   \n",
            "\n",
            "            V23       V24       V25       V26       V27       V28  Amount  \n",
            "49648  0.066324  0.343668 -0.281233  0.081837  0.260041  0.098093    7.18  \n",
            "56245 -0.016313 -0.782556 -0.867386  0.252826  0.192451  0.178093   11.50  \n",
            "42189  0.091834  0.134100  0.023798 -0.859522 -0.019397  0.053315  214.00  \n",
            "18602  0.015258  0.179937 -0.376190  0.044973  0.105523 -0.114779   13.57  \n",
            "53472 -0.007974  0.375832 -0.054772 -0.590944  0.132929  0.158213    9.99  \n",
            "...         ...       ...       ...       ...       ...       ...     ...  \n",
            "53794 -0.060791 -0.186733 -0.017401 -0.283751  0.395451  0.233139    1.00  \n",
            "55401 -0.174659 -0.438908  0.239259 -0.217823 -0.072852  0.010463    1.00  \n",
            "56703 -0.040176  0.110040  0.437891  0.368809 -0.018287  0.031173    0.76  \n",
            "57248 -0.050619  0.231044 -0.450760 -0.376205  0.034504  0.157775    7.58  \n",
            "57470 -0.032977  0.460861  0.560404  0.409366  0.539668  0.296918    0.76  \n",
            "\n",
            "[651 rows x 30 columns]\n"
          ]
        }
      ]
    },
    {
      "cell_type": "code",
      "source": [
        "print(Y)"
      ],
      "metadata": {
        "colab": {
          "base_uri": "https://localhost:8080/"
        },
        "id": "XMKeOBZZMpr9",
        "outputId": "0413779e-555d-41e8-ec5d-faa27503a989"
      },
      "execution_count": null,
      "outputs": [
        {
          "output_type": "stream",
          "name": "stdout",
          "text": [
            "49648    0.0\n",
            "56245    0.0\n",
            "42189    0.0\n",
            "18602    0.0\n",
            "53472    0.0\n",
            "        ... \n",
            "53794    1.0\n",
            "55401    1.0\n",
            "56703    1.0\n",
            "57248    1.0\n",
            "57470    1.0\n",
            "Name: Class, Length: 651, dtype: float64\n"
          ]
        }
      ]
    },
    {
      "cell_type": "markdown",
      "source": [
        "SPLITTING DATASET INTO TRAIN AND TEST DATA"
      ],
      "metadata": {
        "id": "vszCK777MvMy"
      }
    },
    {
      "cell_type": "code",
      "source": [
        "X_train, X_test, Y_train, Y_test = train_test_split(X, Y, test_size=0.21, stratify=Y, random_state=48)"
      ],
      "metadata": {
        "id": "halU0X4VMtBR"
      },
      "execution_count": null,
      "outputs": []
    },
    {
      "cell_type": "code",
      "source": [
        "print(X.shape, X_train.shape, X_test.shape)"
      ],
      "metadata": {
        "colab": {
          "base_uri": "https://localhost:8080/"
        },
        "id": "WWvNXaGhNU2w",
        "outputId": "f1ff51b5-bfc0-489a-b7a2-013c7467fd51"
      },
      "execution_count": null,
      "outputs": [
        {
          "output_type": "stream",
          "name": "stdout",
          "text": [
            "(651, 30) (514, 30) (137, 30)\n"
          ]
        }
      ]
    },
    {
      "cell_type": "markdown",
      "source": [
        "# MODEL TRAINING"
      ],
      "metadata": {
        "id": "-S4glVNsNYZD"
      }
    },
    {
      "cell_type": "markdown",
      "source": [
        "Since this is a binary classification problem, we will use Logistic Regression as our model. "
      ],
      "metadata": {
        "id": "PtgIU0tSNbPa"
      }
    },
    {
      "cell_type": "code",
      "source": [
        "model=model = GaussianNB()"
      ],
      "metadata": {
        "id": "HINqx1PbNlLi"
      },
      "execution_count": null,
      "outputs": []
    },
    {
      "cell_type": "code",
      "source": [
        "# training the Naive Bayes Model with Training Data\n",
        "model.fit(X_train,Y_train)"
      ],
      "metadata": {
        "colab": {
          "base_uri": "https://localhost:8080/",
          "height": 74
        },
        "id": "7r3B57NKNoQV",
        "outputId": "56144b0d-8044-491e-eb55-32cbd53ec1d1"
      },
      "execution_count": null,
      "outputs": [
        {
          "output_type": "execute_result",
          "data": {
            "text/plain": [
              "GaussianNB()"
            ],
            "text/html": [
              "<style>#sk-container-id-1 {color: black;background-color: white;}#sk-container-id-1 pre{padding: 0;}#sk-container-id-1 div.sk-toggleable {background-color: white;}#sk-container-id-1 label.sk-toggleable__label {cursor: pointer;display: block;width: 100%;margin-bottom: 0;padding: 0.3em;box-sizing: border-box;text-align: center;}#sk-container-id-1 label.sk-toggleable__label-arrow:before {content: \"▸\";float: left;margin-right: 0.25em;color: #696969;}#sk-container-id-1 label.sk-toggleable__label-arrow:hover:before {color: black;}#sk-container-id-1 div.sk-estimator:hover label.sk-toggleable__label-arrow:before {color: black;}#sk-container-id-1 div.sk-toggleable__content {max-height: 0;max-width: 0;overflow: hidden;text-align: left;background-color: #f0f8ff;}#sk-container-id-1 div.sk-toggleable__content pre {margin: 0.2em;color: black;border-radius: 0.25em;background-color: #f0f8ff;}#sk-container-id-1 input.sk-toggleable__control:checked~div.sk-toggleable__content {max-height: 200px;max-width: 100%;overflow: auto;}#sk-container-id-1 input.sk-toggleable__control:checked~label.sk-toggleable__label-arrow:before {content: \"▾\";}#sk-container-id-1 div.sk-estimator input.sk-toggleable__control:checked~label.sk-toggleable__label {background-color: #d4ebff;}#sk-container-id-1 div.sk-label input.sk-toggleable__control:checked~label.sk-toggleable__label {background-color: #d4ebff;}#sk-container-id-1 input.sk-hidden--visually {border: 0;clip: rect(1px 1px 1px 1px);clip: rect(1px, 1px, 1px, 1px);height: 1px;margin: -1px;overflow: hidden;padding: 0;position: absolute;width: 1px;}#sk-container-id-1 div.sk-estimator {font-family: monospace;background-color: #f0f8ff;border: 1px dotted black;border-radius: 0.25em;box-sizing: border-box;margin-bottom: 0.5em;}#sk-container-id-1 div.sk-estimator:hover {background-color: #d4ebff;}#sk-container-id-1 div.sk-parallel-item::after {content: \"\";width: 100%;border-bottom: 1px solid gray;flex-grow: 1;}#sk-container-id-1 div.sk-label:hover label.sk-toggleable__label {background-color: #d4ebff;}#sk-container-id-1 div.sk-serial::before {content: \"\";position: absolute;border-left: 1px solid gray;box-sizing: border-box;top: 0;bottom: 0;left: 50%;z-index: 0;}#sk-container-id-1 div.sk-serial {display: flex;flex-direction: column;align-items: center;background-color: white;padding-right: 0.2em;padding-left: 0.2em;position: relative;}#sk-container-id-1 div.sk-item {position: relative;z-index: 1;}#sk-container-id-1 div.sk-parallel {display: flex;align-items: stretch;justify-content: center;background-color: white;position: relative;}#sk-container-id-1 div.sk-item::before, #sk-container-id-1 div.sk-parallel-item::before {content: \"\";position: absolute;border-left: 1px solid gray;box-sizing: border-box;top: 0;bottom: 0;left: 50%;z-index: -1;}#sk-container-id-1 div.sk-parallel-item {display: flex;flex-direction: column;z-index: 1;position: relative;background-color: white;}#sk-container-id-1 div.sk-parallel-item:first-child::after {align-self: flex-end;width: 50%;}#sk-container-id-1 div.sk-parallel-item:last-child::after {align-self: flex-start;width: 50%;}#sk-container-id-1 div.sk-parallel-item:only-child::after {width: 0;}#sk-container-id-1 div.sk-dashed-wrapped {border: 1px dashed gray;margin: 0 0.4em 0.5em 0.4em;box-sizing: border-box;padding-bottom: 0.4em;background-color: white;}#sk-container-id-1 div.sk-label label {font-family: monospace;font-weight: bold;display: inline-block;line-height: 1.2em;}#sk-container-id-1 div.sk-label-container {text-align: center;}#sk-container-id-1 div.sk-container {/* jupyter's `normalize.less` sets `[hidden] { display: none; }` but bootstrap.min.css set `[hidden] { display: none !important; }` so we also need the `!important` here to be able to override the default hidden behavior on the sphinx rendered scikit-learn.org. See: https://github.com/scikit-learn/scikit-learn/issues/21755 */display: inline-block !important;position: relative;}#sk-container-id-1 div.sk-text-repr-fallback {display: none;}</style><div id=\"sk-container-id-1\" class=\"sk-top-container\"><div class=\"sk-text-repr-fallback\"><pre>GaussianNB()</pre><b>In a Jupyter environment, please rerun this cell to show the HTML representation or trust the notebook. <br />On GitHub, the HTML representation is unable to render, please try loading this page with nbviewer.org.</b></div><div class=\"sk-container\" hidden><div class=\"sk-item\"><div class=\"sk-estimator sk-toggleable\"><input class=\"sk-toggleable__control sk-hidden--visually\" id=\"sk-estimator-id-1\" type=\"checkbox\" checked><label for=\"sk-estimator-id-1\" class=\"sk-toggleable__label sk-toggleable__label-arrow\">GaussianNB</label><div class=\"sk-toggleable__content\"><pre>GaussianNB()</pre></div></div></div></div></div>"
            ]
          },
          "metadata": {},
          "execution_count": 26
        }
      ]
    },
    {
      "cell_type": "markdown",
      "source": [
        "# MODEL EVALUATION"
      ],
      "metadata": {
        "id": "dNcQHqwqNyNz"
      }
    },
    {
      "cell_type": "markdown",
      "source": [
        "After fitting our model on training data, we will now check the accuracy of the model by using test data. "
      ],
      "metadata": {
        "id": "9GEWYrpKN2Rf"
      }
    },
    {
      "cell_type": "code",
      "source": [
        "# accuracy on training data\n",
        "X_train_prediction = model.predict(X_train)\n",
        "training_data_accuracy = accuracy_score(X_train_prediction, Y_train)"
      ],
      "metadata": {
        "id": "wbRa92U2Nu6Z"
      },
      "execution_count": null,
      "outputs": []
    },
    {
      "cell_type": "code",
      "source": [
        "print('Accuracy on Training data : ', training_data_accuracy)"
      ],
      "metadata": {
        "colab": {
          "base_uri": "https://localhost:8080/"
        },
        "id": "In6r_yAXORg6",
        "outputId": "a05c1533-0c6f-49dd-c794-149befcdedde"
      },
      "execution_count": null,
      "outputs": [
        {
          "output_type": "stream",
          "name": "stdout",
          "text": [
            "Accuracy on Training data :  0.9649805447470817\n"
          ]
        }
      ]
    },
    {
      "cell_type": "code",
      "source": [
        "# accuracy on test data\n",
        "X_test_prediction = model.predict(X_test)\n",
        "test_data_accuracy = accuracy_score(X_test_prediction, Y_test)"
      ],
      "metadata": {
        "id": "ETwaYPAbQ_1u"
      },
      "execution_count": null,
      "outputs": []
    },
    {
      "cell_type": "code",
      "source": [
        "print('Accuracy score on Test Data : ', test_data_accuracy)"
      ],
      "metadata": {
        "colab": {
          "base_uri": "https://localhost:8080/"
        },
        "id": "kXCZQfa7OUpn",
        "outputId": "258441ca-26bf-4e44-e7c0-dab2953c2487"
      },
      "execution_count": null,
      "outputs": [
        {
          "output_type": "stream",
          "name": "stdout",
          "text": [
            "Accuracy score on Test Data :  0.948905109489051\n"
          ]
        }
      ]
    }
  ]
}